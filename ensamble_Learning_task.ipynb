{
  "cells": [
    {
      "cell_type": "markdown",
      "id": "c4f3ebc9",
      "metadata": {
        "id": "c4f3ebc9"
      },
      "source": [
        "## Pen-Based Recognition of Handwritten Digits Data Set"
      ]
    },
    {
      "cell_type": "code",
      "execution_count": 1,
      "id": "cddb635e",
      "metadata": {
        "id": "cddb635e"
      },
      "outputs": [],
      "source": [
        "from sklearn.metrics import classification_report, ConfusionMatrixDisplay, accuracy_score, confusion_matrix\n",
        "import matplotlib.pyplot as plt\n",
        "from sklearn.metrics import classification_report"
      ]
    },
    {
      "cell_type": "code",
      "execution_count": 2,
      "id": "6d70a85d",
      "metadata": {
        "id": "6d70a85d"
      },
      "outputs": [],
      "source": [
        "def getAccuracy(model, X_test, y_test):\n",
        "    \"\"\"get accouracy of the model\n",
        "    Input: model, X_test, y_test\n",
        "    Output: the accuracy score\n",
        "    \"\"\"\n",
        "    return model.score(X_test,y_test)*100"
      ]
    },
    {
      "cell_type": "code",
      "execution_count": 3,
      "id": "64663240",
      "metadata": {
        "id": "64663240"
      },
      "outputs": [],
      "source": [
        "def printClassificationReport(model,X_test,y_test,title):\n",
        "    print(title)\n",
        "    y_true = y_test \n",
        "    y_pred = model.predict(X_test)\n",
        "    print(classification_report(y_true, y_pred))"
      ]
    },
    {
      "cell_type": "code",
      "execution_count": 4,
      "id": "2316a23d",
      "metadata": {
        "id": "2316a23d"
      },
      "outputs": [],
      "source": [
        "def getAccuracyAndConfusionMatrix(model,X_test,y_test,model_name,title):\n",
        "\n",
        "    \"\"\"plot the confusion matrix of a model\n",
        "    Input: model, X_test, y_test , model_name , title\n",
        "    Output: print the accuraccy of the model , print the confusion matrix\n",
        "    \"\"\"\n",
        "    acc = getAccuracy(model, X_test,y_test)\n",
        "    print(\"=======================================================================\")\n",
        "    print(f'Accuracy of {model_name}: {acc:.2f}%') \n",
        "    print(\"=======================================================================\")\n",
        "    predictions = model.predict(X_test)\n",
        "    cm = confusion_matrix(y_test, predictions, labels=model.classes_)\n",
        "    print(title)\n",
        "    print(cm)\n",
        "    print(\"=======================================================================\")\n",
        "    \n",
        "    disp = ConfusionMatrixDisplay(confusion_matrix=cm,display_labels=model.classes_)\n",
        "    disp.plot()\n",
        "    \n",
        "    plt.title(title,fontsize=16)\n",
        "    plt.show()\n",
        "    print(\"=======================================================================\")\n",
        "    printClassificationReport(model,X_test,y_test,f\"Classification Report of : {model_name}\")\n"
      ]
    },
    {
      "cell_type": "markdown",
      "id": "e6c83587",
      "metadata": {
        "id": "e6c83587"
      },
      "source": [
        "### Loading the training and testing datasets "
      ]
    },
    {
      "cell_type": "code",
      "execution_count": 5,
      "id": "09491c4b",
      "metadata": {
        "id": "09491c4b"
      },
      "outputs": [],
      "source": [
        "import pandas as pd "
      ]
    },
    {
      "cell_type": "code",
      "execution_count": 6,
      "id": "2cd1e360",
      "metadata": {
        "id": "2cd1e360"
      },
      "outputs": [],
      "source": [
        "train_dataset = pd.read_csv(\"pendigits-tra.csv\")\n",
        "test_dataset  = pd.read_csv(\"pendigits-tes.csv\")"
      ]
    },
    {
      "cell_type": "code",
      "execution_count": 7,
      "id": "8b00a05f",
      "metadata": {
        "colab": {
          "base_uri": "https://localhost:8080/"
        },
        "id": "8b00a05f",
        "outputId": "92c164f4-c418-419d-bde8-55d03a05cdfa"
      },
      "outputs": [
        {
          "output_type": "stream",
          "name": "stdout",
          "text": [
            "the shape of the training set is : (7493, 17)\n",
            "the shape of the testing  set is : (3497, 17)\n"
          ]
        }
      ],
      "source": [
        "print(f\"the shape of the training set is : {train_dataset.shape}\")\n",
        "print(f\"the shape of the testing  set is : {test_dataset.shape}\")"
      ]
    },
    {
      "cell_type": "code",
      "execution_count": 8,
      "id": "36196b92",
      "metadata": {
        "colab": {
          "base_uri": "https://localhost:8080/",
          "height": 206
        },
        "id": "36196b92",
        "outputId": "59dbce00-fd44-4d42-b418-6d2487d3a408"
      },
      "outputs": [
        {
          "output_type": "execute_result",
          "data": {
            "text/plain": [
              "    47  100   27   81   57   37   26    0    0.1   23   56   53  100.1   90  \\\n",
              "0    0   89   27  100   42   75   29   45     15   15   37    0     69    2   \n",
              "1    0   57   31   68   72   90  100  100     76   75   50   51     28   25   \n",
              "2    0  100    7   92    5   68   19   45     86   34  100   45     74   23   \n",
              "3    0   67   49   83  100  100   81   80     60   60   40   40     33   20   \n",
              "4  100  100   88   99   49   74   17   47      0   16   37    0     73   16   \n",
              "\n",
              "    40   98   8  \n",
              "0  100    6   2  \n",
              "1   16    0   1  \n",
              "2   67    0   4  \n",
              "3   47    0   1  \n",
              "4   20   20   6  "
            ],
            "text/html": [
              "\n",
              "  <div id=\"df-c90e4e59-6438-4790-8e81-b36b735c3de8\">\n",
              "    <div class=\"colab-df-container\">\n",
              "      <div>\n",
              "<style scoped>\n",
              "    .dataframe tbody tr th:only-of-type {\n",
              "        vertical-align: middle;\n",
              "    }\n",
              "\n",
              "    .dataframe tbody tr th {\n",
              "        vertical-align: top;\n",
              "    }\n",
              "\n",
              "    .dataframe thead th {\n",
              "        text-align: right;\n",
              "    }\n",
              "</style>\n",
              "<table border=\"1\" class=\"dataframe\">\n",
              "  <thead>\n",
              "    <tr style=\"text-align: right;\">\n",
              "      <th></th>\n",
              "      <th>47</th>\n",
              "      <th>100</th>\n",
              "      <th>27</th>\n",
              "      <th>81</th>\n",
              "      <th>57</th>\n",
              "      <th>37</th>\n",
              "      <th>26</th>\n",
              "      <th>0</th>\n",
              "      <th>0.1</th>\n",
              "      <th>23</th>\n",
              "      <th>56</th>\n",
              "      <th>53</th>\n",
              "      <th>100.1</th>\n",
              "      <th>90</th>\n",
              "      <th>40</th>\n",
              "      <th>98</th>\n",
              "      <th>8</th>\n",
              "    </tr>\n",
              "  </thead>\n",
              "  <tbody>\n",
              "    <tr>\n",
              "      <th>0</th>\n",
              "      <td>0</td>\n",
              "      <td>89</td>\n",
              "      <td>27</td>\n",
              "      <td>100</td>\n",
              "      <td>42</td>\n",
              "      <td>75</td>\n",
              "      <td>29</td>\n",
              "      <td>45</td>\n",
              "      <td>15</td>\n",
              "      <td>15</td>\n",
              "      <td>37</td>\n",
              "      <td>0</td>\n",
              "      <td>69</td>\n",
              "      <td>2</td>\n",
              "      <td>100</td>\n",
              "      <td>6</td>\n",
              "      <td>2</td>\n",
              "    </tr>\n",
              "    <tr>\n",
              "      <th>1</th>\n",
              "      <td>0</td>\n",
              "      <td>57</td>\n",
              "      <td>31</td>\n",
              "      <td>68</td>\n",
              "      <td>72</td>\n",
              "      <td>90</td>\n",
              "      <td>100</td>\n",
              "      <td>100</td>\n",
              "      <td>76</td>\n",
              "      <td>75</td>\n",
              "      <td>50</td>\n",
              "      <td>51</td>\n",
              "      <td>28</td>\n",
              "      <td>25</td>\n",
              "      <td>16</td>\n",
              "      <td>0</td>\n",
              "      <td>1</td>\n",
              "    </tr>\n",
              "    <tr>\n",
              "      <th>2</th>\n",
              "      <td>0</td>\n",
              "      <td>100</td>\n",
              "      <td>7</td>\n",
              "      <td>92</td>\n",
              "      <td>5</td>\n",
              "      <td>68</td>\n",
              "      <td>19</td>\n",
              "      <td>45</td>\n",
              "      <td>86</td>\n",
              "      <td>34</td>\n",
              "      <td>100</td>\n",
              "      <td>45</td>\n",
              "      <td>74</td>\n",
              "      <td>23</td>\n",
              "      <td>67</td>\n",
              "      <td>0</td>\n",
              "      <td>4</td>\n",
              "    </tr>\n",
              "    <tr>\n",
              "      <th>3</th>\n",
              "      <td>0</td>\n",
              "      <td>67</td>\n",
              "      <td>49</td>\n",
              "      <td>83</td>\n",
              "      <td>100</td>\n",
              "      <td>100</td>\n",
              "      <td>81</td>\n",
              "      <td>80</td>\n",
              "      <td>60</td>\n",
              "      <td>60</td>\n",
              "      <td>40</td>\n",
              "      <td>40</td>\n",
              "      <td>33</td>\n",
              "      <td>20</td>\n",
              "      <td>47</td>\n",
              "      <td>0</td>\n",
              "      <td>1</td>\n",
              "    </tr>\n",
              "    <tr>\n",
              "      <th>4</th>\n",
              "      <td>100</td>\n",
              "      <td>100</td>\n",
              "      <td>88</td>\n",
              "      <td>99</td>\n",
              "      <td>49</td>\n",
              "      <td>74</td>\n",
              "      <td>17</td>\n",
              "      <td>47</td>\n",
              "      <td>0</td>\n",
              "      <td>16</td>\n",
              "      <td>37</td>\n",
              "      <td>0</td>\n",
              "      <td>73</td>\n",
              "      <td>16</td>\n",
              "      <td>20</td>\n",
              "      <td>20</td>\n",
              "      <td>6</td>\n",
              "    </tr>\n",
              "  </tbody>\n",
              "</table>\n",
              "</div>\n",
              "      <button class=\"colab-df-convert\" onclick=\"convertToInteractive('df-c90e4e59-6438-4790-8e81-b36b735c3de8')\"\n",
              "              title=\"Convert this dataframe to an interactive table.\"\n",
              "              style=\"display:none;\">\n",
              "        \n",
              "  <svg xmlns=\"http://www.w3.org/2000/svg\" height=\"24px\"viewBox=\"0 0 24 24\"\n",
              "       width=\"24px\">\n",
              "    <path d=\"M0 0h24v24H0V0z\" fill=\"none\"/>\n",
              "    <path d=\"M18.56 5.44l.94 2.06.94-2.06 2.06-.94-2.06-.94-.94-2.06-.94 2.06-2.06.94zm-11 1L8.5 8.5l.94-2.06 2.06-.94-2.06-.94L8.5 2.5l-.94 2.06-2.06.94zm10 10l.94 2.06.94-2.06 2.06-.94-2.06-.94-.94-2.06-.94 2.06-2.06.94z\"/><path d=\"M17.41 7.96l-1.37-1.37c-.4-.4-.92-.59-1.43-.59-.52 0-1.04.2-1.43.59L10.3 9.45l-7.72 7.72c-.78.78-.78 2.05 0 2.83L4 21.41c.39.39.9.59 1.41.59.51 0 1.02-.2 1.41-.59l7.78-7.78 2.81-2.81c.8-.78.8-2.07 0-2.86zM5.41 20L4 18.59l7.72-7.72 1.47 1.35L5.41 20z\"/>\n",
              "  </svg>\n",
              "      </button>\n",
              "      \n",
              "  <style>\n",
              "    .colab-df-container {\n",
              "      display:flex;\n",
              "      flex-wrap:wrap;\n",
              "      gap: 12px;\n",
              "    }\n",
              "\n",
              "    .colab-df-convert {\n",
              "      background-color: #E8F0FE;\n",
              "      border: none;\n",
              "      border-radius: 50%;\n",
              "      cursor: pointer;\n",
              "      display: none;\n",
              "      fill: #1967D2;\n",
              "      height: 32px;\n",
              "      padding: 0 0 0 0;\n",
              "      width: 32px;\n",
              "    }\n",
              "\n",
              "    .colab-df-convert:hover {\n",
              "      background-color: #E2EBFA;\n",
              "      box-shadow: 0px 1px 2px rgba(60, 64, 67, 0.3), 0px 1px 3px 1px rgba(60, 64, 67, 0.15);\n",
              "      fill: #174EA6;\n",
              "    }\n",
              "\n",
              "    [theme=dark] .colab-df-convert {\n",
              "      background-color: #3B4455;\n",
              "      fill: #D2E3FC;\n",
              "    }\n",
              "\n",
              "    [theme=dark] .colab-df-convert:hover {\n",
              "      background-color: #434B5C;\n",
              "      box-shadow: 0px 1px 3px 1px rgba(0, 0, 0, 0.15);\n",
              "      filter: drop-shadow(0px 1px 2px rgba(0, 0, 0, 0.3));\n",
              "      fill: #FFFFFF;\n",
              "    }\n",
              "  </style>\n",
              "\n",
              "      <script>\n",
              "        const buttonEl =\n",
              "          document.querySelector('#df-c90e4e59-6438-4790-8e81-b36b735c3de8 button.colab-df-convert');\n",
              "        buttonEl.style.display =\n",
              "          google.colab.kernel.accessAllowed ? 'block' : 'none';\n",
              "\n",
              "        async function convertToInteractive(key) {\n",
              "          const element = document.querySelector('#df-c90e4e59-6438-4790-8e81-b36b735c3de8');\n",
              "          const dataTable =\n",
              "            await google.colab.kernel.invokeFunction('convertToInteractive',\n",
              "                                                     [key], {});\n",
              "          if (!dataTable) return;\n",
              "\n",
              "          const docLinkHtml = 'Like what you see? Visit the ' +\n",
              "            '<a target=\"_blank\" href=https://colab.research.google.com/notebooks/data_table.ipynb>data table notebook</a>'\n",
              "            + ' to learn more about interactive tables.';\n",
              "          element.innerHTML = '';\n",
              "          dataTable['output_type'] = 'display_data';\n",
              "          await google.colab.output.renderOutput(dataTable, element);\n",
              "          const docLink = document.createElement('div');\n",
              "          docLink.innerHTML = docLinkHtml;\n",
              "          element.appendChild(docLink);\n",
              "        }\n",
              "      </script>\n",
              "    </div>\n",
              "  </div>\n",
              "  "
            ]
          },
          "metadata": {},
          "execution_count": 8
        }
      ],
      "source": [
        "train_dataset.head()"
      ]
    },
    {
      "cell_type": "code",
      "execution_count": 9,
      "id": "e8f0da49",
      "metadata": {
        "colab": {
          "base_uri": "https://localhost:8080/",
          "height": 206
        },
        "id": "e8f0da49",
        "outputId": "be186b45-bfd1-4cde-a0e0-a0e1ba9d4eb0"
      },
      "outputs": [
        {
          "output_type": "execute_result",
          "data": {
            "text/plain": [
              "    88   92    2   99   16   66   94   37   70    0    0.1   24   42   65  \\\n",
              "0   80  100   18   98   60   66  100   29   42    0      0   23   42   61   \n",
              "1    0   94    9   57   20   19    7    0   20   36     70   68  100  100   \n",
              "2   95   82   71  100   27   77   77   73  100   80     93   42   56   13   \n",
              "3   68  100    6   88   47   75   87   82   85   56    100   29   75    6   \n",
              "4   70  100  100   97   70   81   45   65   30   49     20   33    0   16   \n",
              "\n",
              "   100  100.1   8  \n",
              "0   56     98   8  \n",
              "1   18     92   8  \n",
              "2    0      0   9  \n",
              "3    0      0   9  \n",
              "4    0      0   1  "
            ],
            "text/html": [
              "\n",
              "  <div id=\"df-7eaf7c2e-96db-4419-ad2c-61ac4be8656a\">\n",
              "    <div class=\"colab-df-container\">\n",
              "      <div>\n",
              "<style scoped>\n",
              "    .dataframe tbody tr th:only-of-type {\n",
              "        vertical-align: middle;\n",
              "    }\n",
              "\n",
              "    .dataframe tbody tr th {\n",
              "        vertical-align: top;\n",
              "    }\n",
              "\n",
              "    .dataframe thead th {\n",
              "        text-align: right;\n",
              "    }\n",
              "</style>\n",
              "<table border=\"1\" class=\"dataframe\">\n",
              "  <thead>\n",
              "    <tr style=\"text-align: right;\">\n",
              "      <th></th>\n",
              "      <th>88</th>\n",
              "      <th>92</th>\n",
              "      <th>2</th>\n",
              "      <th>99</th>\n",
              "      <th>16</th>\n",
              "      <th>66</th>\n",
              "      <th>94</th>\n",
              "      <th>37</th>\n",
              "      <th>70</th>\n",
              "      <th>0</th>\n",
              "      <th>0.1</th>\n",
              "      <th>24</th>\n",
              "      <th>42</th>\n",
              "      <th>65</th>\n",
              "      <th>100</th>\n",
              "      <th>100.1</th>\n",
              "      <th>8</th>\n",
              "    </tr>\n",
              "  </thead>\n",
              "  <tbody>\n",
              "    <tr>\n",
              "      <th>0</th>\n",
              "      <td>80</td>\n",
              "      <td>100</td>\n",
              "      <td>18</td>\n",
              "      <td>98</td>\n",
              "      <td>60</td>\n",
              "      <td>66</td>\n",
              "      <td>100</td>\n",
              "      <td>29</td>\n",
              "      <td>42</td>\n",
              "      <td>0</td>\n",
              "      <td>0</td>\n",
              "      <td>23</td>\n",
              "      <td>42</td>\n",
              "      <td>61</td>\n",
              "      <td>56</td>\n",
              "      <td>98</td>\n",
              "      <td>8</td>\n",
              "    </tr>\n",
              "    <tr>\n",
              "      <th>1</th>\n",
              "      <td>0</td>\n",
              "      <td>94</td>\n",
              "      <td>9</td>\n",
              "      <td>57</td>\n",
              "      <td>20</td>\n",
              "      <td>19</td>\n",
              "      <td>7</td>\n",
              "      <td>0</td>\n",
              "      <td>20</td>\n",
              "      <td>36</td>\n",
              "      <td>70</td>\n",
              "      <td>68</td>\n",
              "      <td>100</td>\n",
              "      <td>100</td>\n",
              "      <td>18</td>\n",
              "      <td>92</td>\n",
              "      <td>8</td>\n",
              "    </tr>\n",
              "    <tr>\n",
              "      <th>2</th>\n",
              "      <td>95</td>\n",
              "      <td>82</td>\n",
              "      <td>71</td>\n",
              "      <td>100</td>\n",
              "      <td>27</td>\n",
              "      <td>77</td>\n",
              "      <td>77</td>\n",
              "      <td>73</td>\n",
              "      <td>100</td>\n",
              "      <td>80</td>\n",
              "      <td>93</td>\n",
              "      <td>42</td>\n",
              "      <td>56</td>\n",
              "      <td>13</td>\n",
              "      <td>0</td>\n",
              "      <td>0</td>\n",
              "      <td>9</td>\n",
              "    </tr>\n",
              "    <tr>\n",
              "      <th>3</th>\n",
              "      <td>68</td>\n",
              "      <td>100</td>\n",
              "      <td>6</td>\n",
              "      <td>88</td>\n",
              "      <td>47</td>\n",
              "      <td>75</td>\n",
              "      <td>87</td>\n",
              "      <td>82</td>\n",
              "      <td>85</td>\n",
              "      <td>56</td>\n",
              "      <td>100</td>\n",
              "      <td>29</td>\n",
              "      <td>75</td>\n",
              "      <td>6</td>\n",
              "      <td>0</td>\n",
              "      <td>0</td>\n",
              "      <td>9</td>\n",
              "    </tr>\n",
              "    <tr>\n",
              "      <th>4</th>\n",
              "      <td>70</td>\n",
              "      <td>100</td>\n",
              "      <td>100</td>\n",
              "      <td>97</td>\n",
              "      <td>70</td>\n",
              "      <td>81</td>\n",
              "      <td>45</td>\n",
              "      <td>65</td>\n",
              "      <td>30</td>\n",
              "      <td>49</td>\n",
              "      <td>20</td>\n",
              "      <td>33</td>\n",
              "      <td>0</td>\n",
              "      <td>16</td>\n",
              "      <td>0</td>\n",
              "      <td>0</td>\n",
              "      <td>1</td>\n",
              "    </tr>\n",
              "  </tbody>\n",
              "</table>\n",
              "</div>\n",
              "      <button class=\"colab-df-convert\" onclick=\"convertToInteractive('df-7eaf7c2e-96db-4419-ad2c-61ac4be8656a')\"\n",
              "              title=\"Convert this dataframe to an interactive table.\"\n",
              "              style=\"display:none;\">\n",
              "        \n",
              "  <svg xmlns=\"http://www.w3.org/2000/svg\" height=\"24px\"viewBox=\"0 0 24 24\"\n",
              "       width=\"24px\">\n",
              "    <path d=\"M0 0h24v24H0V0z\" fill=\"none\"/>\n",
              "    <path d=\"M18.56 5.44l.94 2.06.94-2.06 2.06-.94-2.06-.94-.94-2.06-.94 2.06-2.06.94zm-11 1L8.5 8.5l.94-2.06 2.06-.94-2.06-.94L8.5 2.5l-.94 2.06-2.06.94zm10 10l.94 2.06.94-2.06 2.06-.94-2.06-.94-.94-2.06-.94 2.06-2.06.94z\"/><path d=\"M17.41 7.96l-1.37-1.37c-.4-.4-.92-.59-1.43-.59-.52 0-1.04.2-1.43.59L10.3 9.45l-7.72 7.72c-.78.78-.78 2.05 0 2.83L4 21.41c.39.39.9.59 1.41.59.51 0 1.02-.2 1.41-.59l7.78-7.78 2.81-2.81c.8-.78.8-2.07 0-2.86zM5.41 20L4 18.59l7.72-7.72 1.47 1.35L5.41 20z\"/>\n",
              "  </svg>\n",
              "      </button>\n",
              "      \n",
              "  <style>\n",
              "    .colab-df-container {\n",
              "      display:flex;\n",
              "      flex-wrap:wrap;\n",
              "      gap: 12px;\n",
              "    }\n",
              "\n",
              "    .colab-df-convert {\n",
              "      background-color: #E8F0FE;\n",
              "      border: none;\n",
              "      border-radius: 50%;\n",
              "      cursor: pointer;\n",
              "      display: none;\n",
              "      fill: #1967D2;\n",
              "      height: 32px;\n",
              "      padding: 0 0 0 0;\n",
              "      width: 32px;\n",
              "    }\n",
              "\n",
              "    .colab-df-convert:hover {\n",
              "      background-color: #E2EBFA;\n",
              "      box-shadow: 0px 1px 2px rgba(60, 64, 67, 0.3), 0px 1px 3px 1px rgba(60, 64, 67, 0.15);\n",
              "      fill: #174EA6;\n",
              "    }\n",
              "\n",
              "    [theme=dark] .colab-df-convert {\n",
              "      background-color: #3B4455;\n",
              "      fill: #D2E3FC;\n",
              "    }\n",
              "\n",
              "    [theme=dark] .colab-df-convert:hover {\n",
              "      background-color: #434B5C;\n",
              "      box-shadow: 0px 1px 3px 1px rgba(0, 0, 0, 0.15);\n",
              "      filter: drop-shadow(0px 1px 2px rgba(0, 0, 0, 0.3));\n",
              "      fill: #FFFFFF;\n",
              "    }\n",
              "  </style>\n",
              "\n",
              "      <script>\n",
              "        const buttonEl =\n",
              "          document.querySelector('#df-7eaf7c2e-96db-4419-ad2c-61ac4be8656a button.colab-df-convert');\n",
              "        buttonEl.style.display =\n",
              "          google.colab.kernel.accessAllowed ? 'block' : 'none';\n",
              "\n",
              "        async function convertToInteractive(key) {\n",
              "          const element = document.querySelector('#df-7eaf7c2e-96db-4419-ad2c-61ac4be8656a');\n",
              "          const dataTable =\n",
              "            await google.colab.kernel.invokeFunction('convertToInteractive',\n",
              "                                                     [key], {});\n",
              "          if (!dataTable) return;\n",
              "\n",
              "          const docLinkHtml = 'Like what you see? Visit the ' +\n",
              "            '<a target=\"_blank\" href=https://colab.research.google.com/notebooks/data_table.ipynb>data table notebook</a>'\n",
              "            + ' to learn more about interactive tables.';\n",
              "          element.innerHTML = '';\n",
              "          dataTable['output_type'] = 'display_data';\n",
              "          await google.colab.output.renderOutput(dataTable, element);\n",
              "          const docLink = document.createElement('div');\n",
              "          docLink.innerHTML = docLinkHtml;\n",
              "          element.appendChild(docLink);\n",
              "        }\n",
              "      </script>\n",
              "    </div>\n",
              "  </div>\n",
              "  "
            ]
          },
          "metadata": {},
          "execution_count": 9
        }
      ],
      "source": [
        "test_dataset.head()"
      ]
    },
    {
      "cell_type": "markdown",
      "id": "25d990c3",
      "metadata": {
        "id": "25d990c3"
      },
      "source": [
        "All input attributes are integers in the range 0..100.\n",
        "The last attribute is the class code 0..9"
      ]
    },
    {
      "cell_type": "code",
      "execution_count": 10,
      "id": "bea92665",
      "metadata": {
        "id": "bea92665"
      },
      "outputs": [],
      "source": [
        "X_train = train_dataset.iloc[:, :-1]   \n",
        "y_train = train_dataset.iloc[:, -1] \n",
        "\n",
        "X_test = test_dataset.iloc[:, :-1]   \n",
        "y_test = test_dataset.iloc[:, -1] "
      ]
    },
    {
      "cell_type": "code",
      "execution_count": 11,
      "id": "4a5989e2",
      "metadata": {
        "id": "4a5989e2"
      },
      "outputs": [],
      "source": [
        "# import warnings filter\n",
        "from warnings import simplefilter\n",
        "# ignore all future warnings\n",
        "simplefilter(action='ignore', category=FutureWarning)"
      ]
    },
    {
      "cell_type": "markdown",
      "id": "ed20668d",
      "metadata": {
        "id": "ed20668d"
      },
      "source": [
        "### 2. Apply decision tree to classify testing set, display accuracy and Confusion Matrix.\n"
      ]
    },
    {
      "cell_type": "code",
      "execution_count": 12,
      "id": "a5a2983e",
      "metadata": {
        "id": "a5a2983e"
      },
      "outputs": [],
      "source": [
        "from sklearn import tree\n",
        "clf = tree.DecisionTreeClassifier(random_state=2022)\n",
        "clf = clf.fit(X_train, y_train)"
      ]
    },
    {
      "cell_type": "code",
      "execution_count": 13,
      "id": "4ebf2969",
      "metadata": {
        "scrolled": false,
        "colab": {
          "base_uri": "https://localhost:8080/",
          "height": 887
        },
        "id": "4ebf2969",
        "outputId": "e259ff3b-57c2-4de9-b5fe-67dd7eeedeb4"
      },
      "outputs": [
        {
          "output_type": "stream",
          "name": "stdout",
          "text": [
            "=======================================================================\n",
            "Accuracy of Decision Tree: 91.59%\n",
            "=======================================================================\n",
            "confusion matrix of applying Decsion Tree on the Test set\n",
            "[[340   0   0   0   0   0   1  11  11   0]\n",
            " [  0 317  44   2   1   0   0   0   0   0]\n",
            " [  0  12 345   1   0   2   0   4   0   0]\n",
            " [  0  10   7 311   0   2   0   3   0   3]\n",
            " [  0   3   2   0 350   4   2   0   0   3]\n",
            " [  0   2   0  26   3 286   0   3   3  12]\n",
            " [  9   1   1   0   0   4 317   3   1   0]\n",
            " [  0  17   4   8  24   0   1 308   2   0]\n",
            " [  9   1   0   1   1   3   1   0 319   0]\n",
            " [  0   9   0   3   2   4   0   5   3 310]]\n",
            "=======================================================================\n"
          ]
        },
        {
          "output_type": "display_data",
          "data": {
            "text/plain": [
              "<Figure size 432x288 with 2 Axes>"
            ],
            "image/png": "[encoded data removed]"
          },
          "metadata": {
            "needs_background": "light"
          }
        },
        {
          "output_type": "stream",
          "name": "stdout",
          "text": [
            "=======================================================================\n",
            "Classification Report of : Decision Tree\n",
            "              precision    recall  f1-score   support\n",
            "\n",
            "           0       0.95      0.94      0.94       363\n",
            "           1       0.85      0.87      0.86       364\n",
            "           2       0.86      0.95      0.90       364\n",
            "           3       0.88      0.93      0.90       336\n",
            "           4       0.92      0.96      0.94       364\n",
            "           5       0.94      0.85      0.89       335\n",
            "           6       0.98      0.94      0.96       336\n",
            "           7       0.91      0.85      0.88       364\n",
            "           8       0.94      0.95      0.95       335\n",
            "           9       0.95      0.92      0.93       336\n",
            "\n",
            "    accuracy                           0.92      3497\n",
            "   macro avg       0.92      0.92      0.92      3497\n",
            "weighted avg       0.92      0.92      0.92      3497\n",
            "\n"
          ]
        }
      ],
      "source": [
        "getAccuracyAndConfusionMatrix(clf,X_test,y_test,\"Decision Tree\",\"confusion matrix of applying Decsion Tree on the Test set\")"
      ]
    },
    {
      "cell_type": "markdown",
      "id": "5f4c66bb",
      "metadata": {
        "id": "5f4c66bb"
      },
      "source": [
        "------------------------------------------------------------------------------------------------------------------"
      ]
    },
    {
      "cell_type": "markdown",
      "id": "fdaa58da",
      "metadata": {
        "id": "fdaa58da"
      },
      "source": [
        "## Bagging\n"
      ]
    },
    {
      "cell_type": "markdown",
      "id": "28a250c3",
      "metadata": {
        "id": "28a250c3"
      },
      "source": [
        "+ Bootstrap aggregating (Bagging):\n",
        "    + the same learning algorithm but train each learner on a different set of the data. \n"
      ]
    },
    {
      "cell_type": "markdown",
      "id": "d7761248",
      "metadata": {
        "id": "d7761248"
      },
      "source": [
        "`3.(a) Apply bagging strategy to classify test set samples by using SVM and Decision Tree algorithm as base estimators. Display accuracy and Confusion Matrix`.\n"
      ]
    },
    {
      "cell_type": "code",
      "execution_count": 14,
      "id": "0e9c67ba",
      "metadata": {
        "id": "0e9c67ba"
      },
      "outputs": [],
      "source": [
        "from sklearn.ensemble import BaggingClassifier\n",
        "def applyBaggingStrategy(X_train, y_train,X_test,y_test,base_title,base=None,n=10):\n",
        "    estimator = BaggingClassifier(base_estimator=base,random_state=2022,n_estimators=n)\n",
        "    estimator.fit(X_train, y_train)\n",
        "    getAccuracyAndConfusionMatrix(estimator,X_test,y_test,f'Bagging strategy using {base_title}',f\"confusion matrix of applying Bagging strategy using {base_title} on the Test set\")"
      ]
    },
    {
      "cell_type": "code",
      "execution_count": 15,
      "id": "820bc066",
      "metadata": {
        "id": "820bc066"
      },
      "outputs": [],
      "source": [
        "def applyBaggingStratgyReturnACC(X_train, y_train,X_test,y_test,base_title,base=None,n=10):\n",
        "    estimator = BaggingClassifier(base_estimator=base,random_state=2022,n_estimators=n)\n",
        "    estimator.fit(X_train, y_train)\n",
        "    acc = getAccuracy(estimator, X_test, y_test)\n",
        "    return acc"
      ]
    },
    {
      "cell_type": "markdown",
      "source": [
        "## Apply bagging strategy to classify test set samples by using Decision Tree algorithm "
      ],
      "metadata": {
        "id": "IQxUghIlmG4e"
      },
      "id": "IQxUghIlmG4e"
    },
    {
      "cell_type": "code",
      "execution_count": 16,
      "id": "16109932",
      "metadata": {
        "colab": {
          "base_uri": "https://localhost:8080/",
          "height": 887
        },
        "id": "16109932",
        "outputId": "86fb9384-a568-492a-b104-78ae507321b9"
      },
      "outputs": [
        {
          "output_type": "stream",
          "name": "stdout",
          "text": [
            "=======================================================================\n",
            "Accuracy of Bagging strategy using the default Base estimtor (Decision Tree): 94.71%\n",
            "=======================================================================\n",
            "confusion matrix of applying Bagging strategy using the default Base estimtor (Decision Tree) on the Test set\n",
            "[[346   0   0   0   0   0   1   0  16   0]\n",
            " [  0 339  22   1   1   0   0   1   0   0]\n",
            " [  0   7 355   0   0   1   0   1   0   0]\n",
            " [  0   4   1 328   0   1   0   0   0   2]\n",
            " [  0   1   3   1 353   3   1   0   0   2]\n",
            " [  0   1   0   6   9 300   0   0   5  14]\n",
            " [  0   1   0   0   2   4 328   0   1   0]\n",
            " [  0  37   1   2   1   0   0 320   3   0]\n",
            " [  4   1   0   0   0   1   0   0 329   0]\n",
            " [  0   9   0   1   2   4   3   2   1 314]]\n",
            "=======================================================================\n"
          ]
        },
        {
          "output_type": "display_data",
          "data": {
            "text/plain": [
              "<Figure size 432x288 with 2 Axes>"
            ],
            "image/png": "[encoded data removed]"
          },
          "metadata": {
            "needs_background": "light"
          }
        },
        {
          "output_type": "stream",
          "name": "stdout",
          "text": [
            "=======================================================================\n",
            "Classification Report of : Bagging strategy using the default Base estimtor (Decision Tree)\n",
            "              precision    recall  f1-score   support\n",
            "\n",
            "           0       0.99      0.95      0.97       363\n",
            "           1       0.85      0.93      0.89       364\n",
            "           2       0.93      0.98      0.95       364\n",
            "           3       0.97      0.98      0.97       336\n",
            "           4       0.96      0.97      0.96       364\n",
            "           5       0.96      0.90      0.92       335\n",
            "           6       0.98      0.98      0.98       336\n",
            "           7       0.99      0.88      0.93       364\n",
            "           8       0.93      0.98      0.95       335\n",
            "           9       0.95      0.93      0.94       336\n",
            "\n",
            "    accuracy                           0.95      3497\n",
            "   macro avg       0.95      0.95      0.95      3497\n",
            "weighted avg       0.95      0.95      0.95      3497\n",
            "\n"
          ]
        }
      ],
      "source": [
        "applyBaggingStrategy(X_train, y_train,X_test,y_test,\"the default Base estimtor (Decision Tree)\",base=None)"
      ]
    },
    {
      "cell_type": "markdown",
      "source": [
        "## Apply bagging strategy to classify test set samples by using SVM algorithm "
      ],
      "metadata": {
        "id": "lcMvIkYumOR1"
      },
      "id": "lcMvIkYumOR1"
    },
    {
      "cell_type": "code",
      "execution_count": 17,
      "id": "509d29c2",
      "metadata": {
        "colab": {
          "base_uri": "https://localhost:8080/",
          "height": 887
        },
        "id": "509d29c2",
        "outputId": "5495b873-c989-4d5f-818b-7f5111c2caf7"
      },
      "outputs": [
        {
          "output_type": "stream",
          "name": "stdout",
          "text": [
            "=======================================================================\n",
            "Accuracy of Bagging strategy using SVC as a Base estimtor : 98.11%\n",
            "=======================================================================\n",
            "confusion matrix of applying Bagging strategy using SVC as a Base estimtor  on the Test set\n",
            "[[354   0   0   0   0   0   0   0   9   0]\n",
            " [  0 351  12   0   1   0   0   0   0   0]\n",
            " [  0   2 362   0   0   0   0   0   0   0]\n",
            " [  0   1   0 333   0   0   0   0   0   2]\n",
            " [  0   0   0   0 358   5   1   0   0   0]\n",
            " [  0   0   0   4   0 329   0   0   0   2]\n",
            " [  0   1   0   0   0   0 335   0   0   0]\n",
            " [  0  13   2   0   0   0   0 345   0   4]\n",
            " [  0   1   0   0   0   1   0   0 333   0]\n",
            " [  0   1   0   0   0   0   0   3   1 331]]\n",
            "=======================================================================\n"
          ]
        },
        {
          "output_type": "display_data",
          "data": {
            "text/plain": [
              "<Figure size 432x288 with 2 Axes>"
            ],
            "image/png": "[encoded data removed]"
          },
          "metadata": {
            "needs_background": "light"
          }
        },
        {
          "output_type": "stream",
          "name": "stdout",
          "text": [
            "=======================================================================\n",
            "Classification Report of : Bagging strategy using SVC as a Base estimtor \n",
            "              precision    recall  f1-score   support\n",
            "\n",
            "           0       1.00      0.98      0.99       363\n",
            "           1       0.95      0.96      0.96       364\n",
            "           2       0.96      0.99      0.98       364\n",
            "           3       0.99      0.99      0.99       336\n",
            "           4       1.00      0.98      0.99       364\n",
            "           5       0.98      0.98      0.98       335\n",
            "           6       1.00      1.00      1.00       336\n",
            "           7       0.99      0.95      0.97       364\n",
            "           8       0.97      0.99      0.98       335\n",
            "           9       0.98      0.99      0.98       336\n",
            "\n",
            "    accuracy                           0.98      3497\n",
            "   macro avg       0.98      0.98      0.98      3497\n",
            "weighted avg       0.98      0.98      0.98      3497\n",
            "\n"
          ]
        }
      ],
      "source": [
        "from sklearn.svm import SVC\n",
        "applyBaggingStrategy(X_train, y_train,X_test,y_test,\"SVC as a Base estimtor \",base=SVC())"
      ]
    },
    {
      "cell_type": "markdown",
      "id": "755f50de",
      "metadata": {
        "id": "755f50de"
      },
      "source": [
        "`(b) Find the best number of estimators as taking Decision Tree base estimator.\n",
        " Try 5 different values within the interval of [10, 200]. \n",
        " Plot accuracy vs. number of estimators.`\n",
        "\n"
      ]
    },
    {
      "cell_type": "code",
      "execution_count": 18,
      "id": "6c4fab0c",
      "metadata": {
        "colab": {
          "base_uri": "https://localhost:8080/"
        },
        "id": "6c4fab0c",
        "outputId": "40fc69d1-013f-47ce-bb12-c374ea1d30e9"
      },
      "outputs": [
        {
          "output_type": "stream",
          "name": "stdout",
          "text": [
            "number of estimator :20\n",
            "accuracy            :94.85%\n",
            "===================================================\n",
            "number of estimator :60\n",
            "accuracy            :95.11%\n",
            "===================================================\n",
            "number of estimator :100\n",
            "accuracy            :95.22%\n",
            "===================================================\n",
            "number of estimator :140\n",
            "accuracy            :95.34%\n",
            "===================================================\n",
            "number of estimator :180\n",
            "accuracy            :95.37%\n",
            "===================================================\n"
          ]
        }
      ],
      "source": [
        "num_estimators=[20,60,100,140,180]\n",
        "accuracies = []\n",
        "\n",
        "for i in num_estimators : \n",
        "    acc = applyBaggingStratgyReturnACC(X_train, y_train,X_test,y_test,\"Decision Tree as a Base estimtor \",base=None,n=i)\n",
        "    accuracies.append(acc)\n",
        "    print(f\"number of estimator :{i}\")\n",
        "    print(f\"accuracy            :{acc:.2f}%\")\n",
        "    print(\"===================================================\")"
      ]
    },
    {
      "cell_type": "code",
      "execution_count": 19,
      "id": "1467d08a",
      "metadata": {
        "colab": {
          "base_uri": "https://localhost:8080/",
          "height": 302
        },
        "id": "1467d08a",
        "outputId": "3e98dc67-ebeb-4357-9c0d-a0b4e6eed80f"
      },
      "outputs": [
        {
          "output_type": "display_data",
          "data": {
            "text/plain": [
              "<Figure size 432x288 with 1 Axes>"
            ],
            "image/png": "[encoded data removed]"
          },
          "metadata": {
            "needs_background": "light"
          }
        }
      ],
      "source": [
        "import matplotlib.pyplot as plt\n",
        "\n",
        "plt.plot(num_estimators, accuracies,marker='o', markersize=5)\n",
        "plt.xlabel('number of estimator',fontsize=16)\n",
        "plt.ylabel('Accuracy()%',fontsize=16)\n",
        "plt.title(\"Try 5 different values of number of estimators within the interval of [10, 200] Vs. the Bagging Accuracy\",fontsize=16)\n",
        "plt.grid()\n",
        "plt.show()"
      ]
    },
    {
      "cell_type": "markdown",
      "id": "a1ed04dd",
      "metadata": {
        "id": "a1ed04dd"
      },
      "source": [
        "-------------------------------------------------------------------------------------------------------------------"
      ]
    },
    {
      "cell_type": "markdown",
      "id": "9aa757b4",
      "metadata": {
        "id": "9aa757b4"
      },
      "source": [
        "## Boosting\n"
      ]
    },
    {
      "cell_type": "markdown",
      "id": "df35e9a1",
      "metadata": {
        "id": "df35e9a1"
      },
      "source": [
        "(a) Use GradientBoosting classifier to classify test set samples. \n",
        "- First, tune number of estimators parameter by trying 4 values in the interval of [10, 200]. \n",
        "- Then by using the tuned value for number of estimators, tune the learning rate parameter by trying 4 values within the range of [0.1, 0.9]. \n",
        "- Display accuracy and Confusion Matrix separately for the best value of both parameters (Number of estimators and learning rate).\n",
        "\n"
      ]
    },
    {
      "cell_type": "code",
      "execution_count": 20,
      "id": "594f98a3",
      "metadata": {
        "id": "594f98a3"
      },
      "outputs": [],
      "source": [
        "from sklearn.ensemble import GradientBoostingClassifier\n",
        "\n",
        "def applyBoostingAndReturnAcc(X_train,y_train,X_test,y_test,n=100,lr=0.1):\n",
        "    estimator = GradientBoostingClassifier(n_estimators=n,learning_rate=lr,random_state=2022)\n",
        "    estimator.fit(X_train, y_train)\n",
        "    acc = getAccuracy(estimator, X_test, y_test)\n",
        "    return acc"
      ]
    },
    {
      "cell_type": "markdown",
      "id": "a799ac4b",
      "metadata": {
        "id": "a799ac4b"
      },
      "source": [
        "### First, tune number of estimators parameter by trying 4 values in the interval of [10, 200]."
      ]
    },
    {
      "cell_type": "code",
      "execution_count": 21,
      "id": "73a27326",
      "metadata": {
        "colab": {
          "base_uri": "https://localhost:8080/"
        },
        "id": "73a27326",
        "outputId": "6b0fa1e8-007f-4b91-9d0b-66d65f6f83cd"
      },
      "outputs": [
        {
          "output_type": "stream",
          "name": "stdout",
          "text": [
            "number of estimator :50\n",
            "accuracy            :95.00%\n",
            "===================================================\n",
            "number of estimator :100\n",
            "accuracy            :96.23%\n",
            "===================================================\n",
            "number of estimator :150\n",
            "accuracy            :96.48%\n",
            "===================================================\n",
            "number of estimator :200\n",
            "accuracy            :96.57%\n",
            "===================================================\n"
          ]
        }
      ],
      "source": [
        "num_estimators = [50,100,150,200]\n",
        "Boosting_accuracies = []\n",
        "for i in num_estimators:\n",
        "    acc = applyBoostingAndReturnAcc(X_train,y_train,X_test,y_test,n=i)\n",
        "    Boosting_accuracies.append(acc)\n",
        "    print(f\"number of estimator :{i}\")\n",
        "    print(f\"accuracy            :{acc:.2f}%\")\n",
        "    print(\"===================================================\")"
      ]
    },
    {
      "cell_type": "code",
      "execution_count": 22,
      "id": "26435bcb",
      "metadata": {
        "colab": {
          "base_uri": "https://localhost:8080/",
          "height": 302
        },
        "id": "26435bcb",
        "outputId": "7c458395-574b-43e5-82ae-cf52afb16b1c"
      },
      "outputs": [
        {
          "output_type": "display_data",
          "data": {
            "text/plain": [
              "<Figure size 432x288 with 1 Axes>"
            ],
            "image/png": "[encoded data removed]"
          },
          "metadata": {
            "needs_background": "light"
          }
        }
      ],
      "source": [
        "plt.plot(num_estimators, Boosting_accuracies,marker='o', markersize=5)\n",
        "plt.xlabel('number of estimator',fontsize=16)\n",
        "plt.ylabel('Accuracy()%',fontsize=16)\n",
        "plt.title(\"Try 5 different values of number of estimators within the interval of [10, 200] Vs. the Boosting Accuracy\",fontsize=16)\n",
        "plt.grid()\n",
        "plt.show()"
      ]
    },
    {
      "cell_type": "markdown",
      "id": "f463b156",
      "metadata": {
        "id": "f463b156"
      },
      "source": [
        "### Then by using the tuned value for number of estimators, tune the learning rate parameter by trying 4 values within the range of [0.1, 0.9]."
      ]
    },
    {
      "cell_type": "code",
      "execution_count": 23,
      "id": "68e29837",
      "metadata": {
        "colab": {
          "base_uri": "https://localhost:8080/"
        },
        "id": "68e29837",
        "outputId": "4f803da4-0b7b-4225-a462-35b3aed39d46"
      },
      "outputs": [
        {
          "output_type": "stream",
          "name": "stdout",
          "text": [
            "Learning rate value :0.2\n",
            "number of estimators:200\n",
            "accuracy            :96.45%\n",
            "===================================================\n",
            "Learning rate value :0.4\n",
            "number of estimators:200\n",
            "accuracy            :91.68%\n",
            "===================================================\n",
            "Learning rate value :0.6\n",
            "number of estimators:200\n",
            "accuracy            :26.05%\n",
            "===================================================\n",
            "Learning rate value :0.8\n",
            "number of estimators:200\n",
            "accuracy            :8.75%\n",
            "===================================================\n"
          ]
        }
      ],
      "source": [
        "lr_values = [0.2,0.4,0.6,0.8]\n",
        "estimators_best_num = 200\n",
        "Boosting_accuracies = []\n",
        "for i in lr_values:\n",
        "    acc = applyBoostingAndReturnAcc(X_train,y_train,X_test,y_test,n=estimators_best_num,lr=i)\n",
        "    Boosting_accuracies.append(acc)\n",
        "    print(f\"Learning rate value :{i}\")\n",
        "    print(f\"number of estimators:{estimators_best_num}\")\n",
        "    print(f\"accuracy            :{acc:.2f}%\")\n",
        "    print(\"===================================================\")"
      ]
    },
    {
      "cell_type": "code",
      "execution_count": 24,
      "id": "724859c3",
      "metadata": {
        "colab": {
          "base_uri": "https://localhost:8080/",
          "height": 302
        },
        "id": "724859c3",
        "outputId": "ec84995f-81e9-4581-f7c5-d59120aa37a0"
      },
      "outputs": [
        {
          "output_type": "display_data",
          "data": {
            "text/plain": [
              "<Figure size 432x288 with 1 Axes>"
            ],
            "image/png": "[encoded data removed]"
          },
          "metadata": {
            "needs_background": "light"
          }
        }
      ],
      "source": [
        "plt.plot(lr_values, Boosting_accuracies,marker='o', markersize=5)\n",
        "plt.xlabel('Learning rate value',fontsize=16)\n",
        "plt.ylabel('Accuracy()%',fontsize=16)\n",
        "plt.title(\"Try 4 different values of number of learning rate within the interval of [0.1,0.9] Vs. the Boosting Accuracy\",fontsize=16)\n",
        "plt.grid()\n",
        "plt.show()"
      ]
    },
    {
      "cell_type": "markdown",
      "id": "cb898dab",
      "metadata": {
        "id": "cb898dab"
      },
      "source": [
        "### Display accuracy and Confusion Matrix separately for the best value of both parameters (Number of estimators and learning rate)."
      ]
    },
    {
      "cell_type": "code",
      "execution_count": 25,
      "id": "b9139336",
      "metadata": {
        "id": "b9139336"
      },
      "outputs": [],
      "source": [
        "def applyBoostingStrategy(X_train,y_train,X_test,y_test,n=100,lr=i):\n",
        "    estimator = GradientBoostingClassifier(n_estimators=n,learning_rate=lr,random_state=2022)\n",
        "    estimator.fit(X_train, y_train)\n",
        "    print(f\"Learning rate value :{lr}\")\n",
        "    print(f\"number of estimators:{n}\")\n",
        "    print(f\"accuracy            :{estimator.score(X_test, y_test)*100:.2f}%\")\n",
        "    print(\"===================================================\")\n",
        "    getAccuracyAndConfusionMatrix(estimator,X_test,y_test,f'Boosting strategy using GradientBoostingClassifier with {n} estimators and {lr} Learning rate',f\"confusion matrix of applying Boosting strategy using GradientBoostingClassifier with {n} estimators and {lr} Learning rate on test data\")"
      ]
    },
    {
      "cell_type": "code",
      "execution_count": 26,
      "id": "e9a85a95",
      "metadata": {
        "colab": {
          "base_uri": "https://localhost:8080/",
          "height": 957
        },
        "id": "e9a85a95",
        "outputId": "ae741f64-76ec-4e47-89a7-a24246d18e01"
      },
      "outputs": [
        {
          "output_type": "stream",
          "name": "stdout",
          "text": [
            "Learning rate value :0.2\n",
            "number of estimators:200\n",
            "accuracy            :96.45%\n",
            "===================================================\n",
            "=======================================================================\n",
            "Accuracy of Boosting strategy using GradientBoostingClassifier with 200 estimators and 0.2 Learning rate: 96.45%\n",
            "=======================================================================\n",
            "confusion matrix of applying Boosting strategy using GradientBoostingClassifier with 200 estimators and 0.2 Learning rate on test data\n",
            "[[343   0   0   0   0   0   0   0  20   0]\n",
            " [  0 349  13   0   1   1   0   0   0   0]\n",
            " [  0   2 362   0   0   0   0   0   0   0]\n",
            " [  0   2   0 332   0   0   0   1   0   1]\n",
            " [  0   0   0   1 363   0   0   0   0   0]\n",
            " [  0   1   0   7   0 306   0   0   4  17]\n",
            " [  0   0   0   0   0   1 335   0   0   0]\n",
            " [  0  31   4   0   0   0   0 325   0   4]\n",
            " [  1   0   0   0   0   0   0   0 334   0]\n",
            " [  0   6   0   4   0   0   0   1   1 324]]\n",
            "=======================================================================\n"
          ]
        },
        {
          "output_type": "display_data",
          "data": {
            "text/plain": [
              "<Figure size 432x288 with 2 Axes>"
            ],
            "image/png": "[encoded data removed]"
          },
          "metadata": {
            "needs_background": "light"
          }
        },
        {
          "output_type": "stream",
          "name": "stdout",
          "text": [
            "=======================================================================\n",
            "Classification Report of : Boosting strategy using GradientBoostingClassifier with 200 estimators and 0.2 Learning rate\n",
            "              precision    recall  f1-score   support\n",
            "\n",
            "           0       1.00      0.94      0.97       363\n",
            "           1       0.89      0.96      0.92       364\n",
            "           2       0.96      0.99      0.97       364\n",
            "           3       0.97      0.99      0.98       336\n",
            "           4       1.00      1.00      1.00       364\n",
            "           5       0.99      0.91      0.95       335\n",
            "           6       1.00      1.00      1.00       336\n",
            "           7       0.99      0.89      0.94       364\n",
            "           8       0.93      1.00      0.96       335\n",
            "           9       0.94      0.96      0.95       336\n",
            "\n",
            "    accuracy                           0.96      3497\n",
            "   macro avg       0.97      0.96      0.96      3497\n",
            "weighted avg       0.97      0.96      0.96      3497\n",
            "\n"
          ]
        }
      ],
      "source": [
        "applyBoostingStrategy(X_train,y_train,X_test,y_test,n=200,lr=0.2)"
      ]
    },
    {
      "cell_type": "markdown",
      "id": "18bd9059",
      "metadata": {
        "id": "18bd9059"
      },
      "source": [
        "### (b) Build XGBoost classifier with the same parameters that you obtained in question (4-a). Provide accuracy and Confusion Matrix."
      ]
    },
    {
      "cell_type": "code",
      "execution_count": 27,
      "id": "aeafc849",
      "metadata": {
        "id": "aeafc849"
      },
      "outputs": [],
      "source": [
        "# !pip install xgboost\n",
        "import xgboost as xgb"
      ]
    },
    {
      "cell_type": "code",
      "execution_count": 28,
      "id": "ab388763",
      "metadata": {
        "colab": {
          "base_uri": "https://localhost:8080/",
          "height": 887
        },
        "id": "ab388763",
        "outputId": "5d508ddf-9eb6-400b-ec08-f464284667eb"
      },
      "outputs": [
        {
          "output_type": "stream",
          "name": "stdout",
          "text": [
            "=======================================================================\n",
            "Accuracy of Boosting strategy using XGBoost with 200 estimators and 0.2 Learning rate: 96.65%\n",
            "=======================================================================\n",
            "confusion matrix of applying Boosting strategy using XGBoost with 200 estimators and 0.2 Learning rate on test data\n",
            "[[343   0   0   0   0   0   0   0  20   0]\n",
            " [  0 345  16   0   1   1   0   1   0   0]\n",
            " [  0   2 361   0   0   0   0   1   0   0]\n",
            " [  0   2   0 332   0   0   0   1   0   1]\n",
            " [  0   0   0   0 362   2   0   0   0   0]\n",
            " [  0   0   0   7   0 321   1   1   0   5]\n",
            " [  0   0   1   0   0   1 333   0   1   0]\n",
            " [  0  28   3   0   0   0   0 325   0   8]\n",
            " [  1   0   0   0   0   0   0   0 334   0]\n",
            " [  0   5   0   5   0   0   0   1   1 324]]\n",
            "=======================================================================\n"
          ]
        },
        {
          "output_type": "display_data",
          "data": {
            "text/plain": [
              "<Figure size 432x288 with 2 Axes>"
            ],
            "image/png": "[encoded data removed]"
          },
          "metadata": {
            "needs_background": "light"
          }
        },
        {
          "output_type": "stream",
          "name": "stdout",
          "text": [
            "=======================================================================\n",
            "Classification Report of : Boosting strategy using XGBoost with 200 estimators and 0.2 Learning rate\n",
            "              precision    recall  f1-score   support\n",
            "\n",
            "           0       1.00      0.94      0.97       363\n",
            "           1       0.90      0.95      0.92       364\n",
            "           2       0.95      0.99      0.97       364\n",
            "           3       0.97      0.99      0.98       336\n",
            "           4       1.00      0.99      1.00       364\n",
            "           5       0.99      0.96      0.97       335\n",
            "           6       1.00      0.99      0.99       336\n",
            "           7       0.98      0.89      0.94       364\n",
            "           8       0.94      1.00      0.97       335\n",
            "           9       0.96      0.96      0.96       336\n",
            "\n",
            "    accuracy                           0.97      3497\n",
            "   macro avg       0.97      0.97      0.97      3497\n",
            "weighted avg       0.97      0.97      0.97      3497\n",
            "\n"
          ]
        }
      ],
      "source": [
        "xgb_model = xgb.XGBClassifier(learning_rate=0.2,n_estimators=200, random_state=2022)\n",
        "xgb_model.fit(X_train.values, y_train.values)\n",
        "getAccuracyAndConfusionMatrix(xgb_model,X_test.values,y_test.values,f'Boosting strategy using XGBoost with {200} estimators and {0.2} Learning rate',f\"confusion matrix of applying Boosting strategy using XGBoost with {200} estimators and {0.2} Learning rate on test data\")"
      ]
    },
    {
      "cell_type": "markdown",
      "id": "501c123e",
      "metadata": {
        "id": "501c123e"
      },
      "source": [
        "### (c) Compare XGBoost classifier and GradientBoosting classifier performance. Which metric is the best to compare performance, accuracy or confusion matrix? "
      ]
    },
    {
      "cell_type": "markdown",
      "source": [
        "##Comment on Bagging and Boosting approches based on question 3 and 4."
      ],
      "metadata": {
        "id": "u-5EhoKn9ehK"
      },
      "id": "u-5EhoKn9ehK"
    },
    {
      "cell_type": "code",
      "execution_count": 28,
      "id": "af50b9df",
      "metadata": {
        "id": "af50b9df"
      },
      "outputs": [],
      "source": [
        ""
      ]
    },
    {
      "cell_type": "markdown",
      "id": "8786c147",
      "metadata": {
        "id": "8786c147"
      },
      "source": [
        "## References "
      ]
    },
    {
      "cell_type": "markdown",
      "id": "5c02ce2b",
      "metadata": {
        "id": "5c02ce2b"
      },
      "source": [
        "1. https://scikit-learn.org/stable/modules/tree.html\n",
        "2. https://scikit-learn.org/stable/modules/generated/sklearn.ensemble.BaggingClassifier.html\n",
        "3. https://scikit-learn.org/stable/modules/generated/sklearn.ensemble.GradientBoostingClassifier.html\n",
        "4. https://xgboost.readthedocs.io/en/latest/index.html\n",
        "5. https://xgboost.readthedocs.io/en/stable/parameter.html"
      ]
    },
    {
      "cell_type": "code",
      "source": [
        ""
      ],
      "metadata": {
        "id": "uXpPUKejHGH5"
      },
      "id": "uXpPUKejHGH5",
      "execution_count": null,
      "outputs": []
    }
  ],
  "metadata": {
    "kernelspec": {
      "display_name": "Python 3",
      "language": "python",
      "name": "python3"
    },
    "language_info": {
      "codemirror_mode": {
        "name": "ipython",
        "version": 3
      },
      "file_extension": ".py",
      "mimetype": "text/x-python",
      "name": "python",
      "nbconvert_exporter": "python",
      "pygments_lexer": "ipython3",
      "version": "3.7.6"
    },
    "colab": {
      "name": "Assignment_4_applied machine Learning.ipynb",
      "provenance": [],
      "collapsed_sections": []
    }
  },
  "nbformat": 4,
  "nbformat_minor": 5
}